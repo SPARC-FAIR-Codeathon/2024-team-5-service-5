{
 "cells": [
  {
   "cell_type": "code",
   "execution_count": 5,
   "metadata": {},
   "outputs": [
    {
     "name": "stdout",
     "output_type": "stream",
     "text": [
      "Hello, World!\n"
     ]
    }
   ],
   "source": [
    "import os\n",
    "import pandas as pd\n",
    "from IPython.display import display\n",
    "\n",
    "# Specify the directory\n",
    "directory = '/home/jovyan/work/inputs/input_1/'\n",
    "\n",
    "# Get a list of files in the directory\n",
    "files = os.listdir(directory)\n",
    "\n",
    "# Filter out CSV files\n",
    "csv_files = [file for file in files if file.endswith('.csv')]\n",
    "\n",
    "# Get the first CSV file (if any)\n",
    "if csv_files:\n",
    "    first_csv_file = csv_files[0]\n",
    "    # read the CSV file display as table\n",
    "    table = pd.read_csv(directory + first_csv_file)\n",
    "\n",
    "    # display the table\n",
    "    display(table)\n",
    "else:\n",
    "    print(\"No CSV files found in the directory.\")"
   ]
  }
 ],
 "metadata": {
  "kernelspec": {
   "display_name": "py3env",
   "language": "python",
   "name": "python3"
  },
  "language_info": {
   "codemirror_mode": {
    "name": "ipython",
    "version": 3
   },
   "file_extension": ".py",
   "mimetype": "text/x-python",
   "name": "python",
   "nbconvert_exporter": "python",
   "pygments_lexer": "ipython3",
   "version": "3.10.12"
  }
 },
 "nbformat": 4,
 "nbformat_minor": 2
}
